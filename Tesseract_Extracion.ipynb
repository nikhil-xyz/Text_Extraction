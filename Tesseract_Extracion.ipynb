{
 "cells": [
  {
   "cell_type": "code",
   "execution_count": 3,
   "id": "e85860ac",
   "metadata": {},
   "outputs": [],
   "source": [
    "import pytesseract\n",
    "pytesseract.pytesseract.tesseract_cmd = r'C:\\Program Files\\Tesseract-OCR\\tesseract.exe'"
   ]
  },
  {
   "cell_type": "code",
   "execution_count": 4,
   "id": "9de36dcc",
   "metadata": {},
   "outputs": [],
   "source": [
    "import cv2\n",
    "image = cv2.imread('program.png')\n",
    "cv2.imshow('sample image',image)\n",
    "cv2.waitKey(0)\n",
    "cv2.destroyAllWindows()"
   ]
  },
  {
   "cell_type": "code",
   "execution_count": 5,
   "id": "c5b35fbd",
   "metadata": {},
   "outputs": [
    {
     "name": "stdout",
     "output_type": "stream",
     "text": [
      "| Jumbo _Extra_Cheese2 - Notepad\n",
      "File Edit Format View Help\n",
      "\n",
      "V/ Accepted °\n",
      "#include<bits/stdc++.h>\n",
      "\n",
      "using namespace std;\n",
      "\n",
      "#define int long long\n",
      "\n",
      "bool sortcol(vector<int>& v1, vector<int>& v2){\n",
      "return v1[0] < v2[0];\n",
      "3\n",
      "\n",
      "signed main(){\n",
      "int t;\n",
      "cin >> t;\n",
      "while (t--){\n",
      "int n;\n",
      "cin >> n;\n",
      "vector<vector<int>> arr(n, vector<int>(2));\n",
      "int result = 0;\n",
      "for (int i=0; i<n; i++){\n",
      "int x, y;\n",
      "cin >> X >> y;\n",
      "\n",
      "arrlilfM1 = mavlyv v\\> Y\n",
      "Ln 1, Col 1 100% — Windows (CRLF) UTF-8\n",
      "\n",
      "1 I S , ‘7:02 PM\n",
      "a | P Type here to search i k / ) 27°C Clear ©) ENG 4)\n",
      "\n",
      "\n"
     ]
    }
   ],
   "source": [
    "text = pytesseract.image_to_string(image)\n",
    "print(text)"
   ]
  },
  {
   "cell_type": "code",
   "execution_count": 6,
   "id": "64fd1df9",
   "metadata": {},
   "outputs": [
    {
     "name": "stdout",
     "output_type": "stream",
     "text": [
      "Collecting gradio\n",
      "  Downloading gradio-3.16.2-py3-none-any.whl (14.2 MB)\n",
      "     ---------------------------------------- 14.2/14.2 MB 2.2 MB/s eta 0:00:00\n",
      "Requirement already satisfied: numpy in c:\\python\\python37\\lib\\site-packages (from gradio) (1.21.2)\n",
      "Collecting pycryptodome\n",
      "  Downloading pycryptodome-3.16.0-cp35-abi3-win_amd64.whl (1.7 MB)\n",
      "     ---------------------------------------- 1.7/1.7 MB 1.5 MB/s eta 0:00:00\n",
      "Collecting ffmpy\n",
      "  Downloading ffmpy-0.3.0.tar.gz (4.8 kB)\n",
      "  Preparing metadata (setup.py): started\n",
      "  Preparing metadata (setup.py): finished with status 'done'\n",
      "Requirement already satisfied: matplotlib in c:\\python\\python37\\lib\\site-packages (from gradio) (3.5.3)\n",
      "Requirement already satisfied: markupsafe in c:\\python\\python37\\lib\\site-packages (from gradio) (2.1.1)\n",
      "Collecting aiofiles\n",
      "  Downloading aiofiles-22.1.0-py3-none-any.whl (14 kB)\n",
      "Collecting aiohttp\n",
      "  Downloading aiohttp-3.8.3-cp37-cp37m-win_amd64.whl (322 kB)\n",
      "     -------------------------------------- 322.1/322.1 kB 1.1 MB/s eta 0:00:00\n",
      "Collecting uvicorn\n",
      "  Downloading uvicorn-0.20.0-py3-none-any.whl (56 kB)\n",
      "     -------------------------------------- 56.9/56.9 kB 752.2 kB/s eta 0:00:00\n",
      "Requirement already satisfied: pillow in c:\\python\\python37\\lib\\site-packages (from gradio) (8.3.2)\n",
      "Collecting pydub\n",
      "  Downloading pydub-0.25.1-py2.py3-none-any.whl (32 kB)\n",
      "Collecting pydantic\n",
      "  Downloading pydantic-1.10.4-cp37-cp37m-win_amd64.whl (2.1 MB)\n",
      "     ---------------------------------------- 2.1/2.1 MB 1.4 MB/s eta 0:00:00\n",
      "Collecting python-multipart\n",
      "  Downloading python-multipart-0.0.5.tar.gz (32 kB)\n",
      "  Preparing metadata (setup.py): started\n",
      "  Preparing metadata (setup.py): finished with status 'done'\n",
      "Collecting markdown-it-py[linkify,plugins]\n",
      "  Downloading markdown_it_py-2.1.0-py3-none-any.whl (84 kB)\n",
      "     ---------------------------------------- 84.5/84.5 kB 1.2 MB/s eta 0:00:00\n",
      "Requirement already satisfied: pandas in c:\\python\\python37\\lib\\site-packages (from gradio) (1.3.3)\n",
      "Collecting fastapi\n",
      "  Downloading fastapi-0.89.1-py3-none-any.whl (55 kB)\n",
      "     ---------------------------------------- 55.8/55.8 kB 1.4 MB/s eta 0:00:00\n",
      "Requirement already satisfied: jinja2 in c:\\python\\python37\\lib\\site-packages (from gradio) (3.1.2)\n",
      "Collecting altair>=4.2.0\n",
      "  Downloading altair-4.2.0-py3-none-any.whl (812 kB)\n",
      "     -------------------------------------- 812.8/812.8 kB 1.5 MB/s eta 0:00:00\n",
      "Collecting websockets>=10.0\n",
      "  Downloading websockets-10.4-cp37-cp37m-win_amd64.whl (101 kB)\n",
      "     ------------------------------------ 101.4/101.4 kB 729.6 kB/s eta 0:00:00\n",
      "Collecting orjson\n",
      "  Downloading orjson-3.8.5-cp37-none-win_amd64.whl (202 kB)\n",
      "     ------------------------------------ 202.6/202.6 kB 878.2 kB/s eta 0:00:00\n",
      "Collecting httpx\n",
      "  Downloading httpx-0.23.3-py3-none-any.whl (71 kB)\n",
      "     ---------------------------------------- 71.5/71.5 kB 1.3 MB/s eta 0:00:00\n",
      "Collecting pyyaml\n",
      "  Downloading PyYAML-6.0-cp37-cp37m-win_amd64.whl (153 kB)\n",
      "     ------------------------------------ 153.2/153.2 kB 704.0 kB/s eta 0:00:00\n",
      "Requirement already satisfied: typing-extensions in c:\\python\\python37\\lib\\site-packages (from gradio) (4.4.0)\n",
      "Collecting fsspec\n",
      "  Downloading fsspec-2023.1.0-py3-none-any.whl (143 kB)\n",
      "     ------------------------------------ 143.0/143.0 kB 772.1 kB/s eta 0:00:00\n",
      "Requirement already satisfied: requests in c:\\python\\python37\\lib\\site-packages (from gradio) (2.26.0)\n",
      "Requirement already satisfied: jsonschema>=3.0 in c:\\python\\python37\\lib\\site-packages (from altair>=4.2.0->gradio) (4.17.3)\n",
      "Collecting toolz\n",
      "  Downloading toolz-0.12.0-py3-none-any.whl (55 kB)\n",
      "     -------------------------------------- 55.8/55.8 kB 584.6 kB/s eta 0:00:00\n",
      "Requirement already satisfied: entrypoints in c:\\python\\python37\\lib\\site-packages (from altair>=4.2.0->gradio) (0.4)\n",
      "Requirement already satisfied: python-dateutil>=2.7.3 in c:\\python\\python37\\lib\\site-packages (from pandas->gradio) (2.8.2)\n",
      "Requirement already satisfied: pytz>=2017.3 in c:\\python\\python37\\lib\\site-packages (from pandas->gradio) (2021.1)\n",
      "Collecting multidict<7.0,>=4.5\n",
      "  Downloading multidict-6.0.4-cp37-cp37m-win_amd64.whl (27 kB)\n",
      "Collecting aiosignal>=1.1.2\n",
      "  Downloading aiosignal-1.3.1-py3-none-any.whl (7.6 kB)\n",
      "Collecting async-timeout<5.0,>=4.0.0a3\n",
      "  Downloading async_timeout-4.0.2-py3-none-any.whl (5.8 kB)\n",
      "Collecting frozenlist>=1.1.1\n",
      "  Downloading frozenlist-1.3.3-cp37-cp37m-win_amd64.whl (34 kB)\n",
      "Collecting asynctest==0.13.0\n",
      "  Downloading asynctest-0.13.0-py3-none-any.whl (26 kB)\n",
      "Requirement already satisfied: attrs>=17.3.0 in c:\\python\\python37\\lib\\site-packages (from aiohttp->gradio) (22.2.0)\n",
      "Collecting yarl<2.0,>=1.0\n",
      "  Downloading yarl-1.8.2-cp37-cp37m-win_amd64.whl (56 kB)\n",
      "     -------------------------------------- 56.4/56.4 kB 592.4 kB/s eta 0:00:00\n",
      "Requirement already satisfied: charset-normalizer<3.0,>=2.0 in c:\\python\\python37\\lib\\site-packages (from aiohttp->gradio) (2.0.4)\n",
      "Collecting starlette==0.22.0\n",
      "  Downloading starlette-0.22.0-py3-none-any.whl (64 kB)\n",
      "     -------------------------------------- 64.3/64.3 kB 858.5 kB/s eta 0:00:00\n",
      "Requirement already satisfied: anyio<5,>=3.4.0 in c:\\python\\python37\\lib\\site-packages (from starlette==0.22.0->fastapi->gradio) (3.6.2)\n",
      "Collecting httpcore<0.17.0,>=0.15.0\n",
      "  Downloading httpcore-0.16.3-py3-none-any.whl (69 kB)\n",
      "     -------------------------------------- 69.6/69.6 kB 544.2 kB/s eta 0:00:00\n",
      "Requirement already satisfied: certifi in c:\\python\\python37\\lib\\site-packages (from httpx->gradio) (2021.5.30)\n",
      "Requirement already satisfied: sniffio in c:\\python\\python37\\lib\\site-packages (from httpx->gradio) (1.3.0)\n",
      "Collecting rfc3986[idna2008]<2,>=1.3\n",
      "  Downloading rfc3986-1.5.0-py2.py3-none-any.whl (31 kB)\n",
      "Collecting mdurl~=0.1\n",
      "  Downloading mdurl-0.1.2-py3-none-any.whl (10.0 kB)\n",
      "Collecting mdit-py-plugins\n",
      "  Downloading mdit_py_plugins-0.3.3-py3-none-any.whl (50 kB)\n",
      "     -------------------------------------- 50.5/50.5 kB 638.7 kB/s eta 0:00:00\n",
      "Collecting linkify-it-py~=1.0\n",
      "  Downloading linkify_it_py-1.0.3-py3-none-any.whl (19 kB)\n",
      "Requirement already satisfied: fonttools>=4.22.0 in c:\\python\\python37\\lib\\site-packages (from matplotlib->gradio) (4.38.0)\n",
      "Requirement already satisfied: cycler>=0.10 in c:\\python\\python37\\lib\\site-packages (from matplotlib->gradio) (0.11.0)\n",
      "Requirement already satisfied: pyparsing>=2.2.1 in c:\\python\\python37\\lib\\site-packages (from matplotlib->gradio) (3.0.9)\n",
      "Requirement already satisfied: packaging>=20.0 in c:\\python\\python37\\lib\\site-packages (from matplotlib->gradio) (22.0)\n",
      "Requirement already satisfied: kiwisolver>=1.0.1 in c:\\python\\python37\\lib\\site-packages (from matplotlib->gradio) (1.4.4)\n",
      "Requirement already satisfied: six>=1.4.0 in c:\\python\\python37\\lib\\site-packages (from python-multipart->gradio) (1.16.0)\n",
      "Requirement already satisfied: urllib3<1.27,>=1.21.1 in c:\\python\\python37\\lib\\site-packages (from requests->gradio) (1.26.6)\n",
      "Requirement already satisfied: idna<4,>=2.5 in c:\\python\\python37\\lib\\site-packages (from requests->gradio) (3.2)\n",
      "Requirement already satisfied: click>=7.0 in c:\\python\\python37\\lib\\site-packages (from uvicorn->gradio) (8.1.3)\n",
      "Collecting h11>=0.8\n",
      "  Downloading h11-0.14.0-py3-none-any.whl (58 kB)\n",
      "     -------------------------------------- 58.3/58.3 kB 615.6 kB/s eta 0:00:00\n",
      "Requirement already satisfied: importlib-metadata in c:\\python\\python37\\lib\\site-packages (from click>=7.0->uvicorn->gradio) (6.0.0)\n",
      "Requirement already satisfied: colorama in c:\\python\\python37\\lib\\site-packages (from click>=7.0->uvicorn->gradio) (0.4.4)\n",
      "Requirement already satisfied: importlib-resources>=1.4.0 in c:\\python\\python37\\lib\\site-packages (from jsonschema>=3.0->altair>=4.2.0->gradio) (5.10.2)\n",
      "Requirement already satisfied: pyrsistent!=0.17.0,!=0.17.1,!=0.17.2,>=0.14.0 in c:\\python\\python37\\lib\\site-packages (from jsonschema>=3.0->altair>=4.2.0->gradio) (0.19.3)\n",
      "Requirement already satisfied: pkgutil-resolve-name>=1.3.10 in c:\\python\\python37\\lib\\site-packages (from jsonschema>=3.0->altair>=4.2.0->gradio) (1.3.10)\n",
      "Collecting uc-micro-py\n",
      "  Downloading uc_micro_py-1.0.1-py3-none-any.whl (6.2 kB)\n",
      "Requirement already satisfied: zipp>=3.1.0 in c:\\python\\python37\\lib\\site-packages (from importlib-resources>=1.4.0->jsonschema>=3.0->altair>=4.2.0->gradio) (3.11.0)\n",
      "Building wheels for collected packages: ffmpy, python-multipart\n",
      "  Building wheel for ffmpy (setup.py): started\n",
      "  Building wheel for ffmpy (setup.py): finished with status 'done'\n",
      "  Created wheel for ffmpy: filename=ffmpy-0.3.0-py3-none-any.whl size=4709 sha256=23a99d9a7cd04540678ef4104df8d787b90fc1342334a44a73d41c2a98af6fb6\n",
      "  Stored in directory: c:\\users\\tarun\\appdata\\local\\pip\\cache\\wheels\\c0\\96\\80\\1aeaaf27265398a7393b296714b84e51a7d00101f8a665a25a\n",
      "  Building wheel for python-multipart (setup.py): started\n",
      "  Building wheel for python-multipart (setup.py): finished with status 'done'\n",
      "  Created wheel for python-multipart: filename=python_multipart-0.0.5-py3-none-any.whl size=31670 sha256=5672175846d3d3d3c01a3ed253a7922fea3e799d26133097d35aecf55d8c0c2f\n",
      "  Stored in directory: c:\\users\\tarun\\appdata\\local\\pip\\cache\\wheels\\7b\\24\\20\\55941b99a69639d6e3a3bce7d2d7b6a2d633f05125042a544a\n",
      "Successfully built ffmpy python-multipart\n",
      "Installing collected packages: rfc3986, pydub, ffmpy, websockets, uc-micro-py, toolz, pyyaml, python-multipart, pydantic, pycryptodome, orjson, multidict, mdurl, h11, fsspec, frozenlist, asynctest, async-timeout, aiofiles, yarl, starlette, markdown-it-py, linkify-it-py, httpcore, aiosignal, uvicorn, mdit-py-plugins, httpx, fastapi, altair, aiohttp, gradio\n",
      "Successfully installed aiofiles-22.1.0 aiohttp-3.8.3 aiosignal-1.3.1 altair-4.2.0 async-timeout-4.0.2 asynctest-0.13.0 fastapi-0.89.1 ffmpy-0.3.0 frozenlist-1.3.3 fsspec-2023.1.0 gradio-3.16.2 h11-0.14.0 httpcore-0.16.3 httpx-0.23.3 linkify-it-py-1.0.3 markdown-it-py-2.1.0 mdit-py-plugins-0.3.3 mdurl-0.1.2 multidict-6.0.4 orjson-3.8.5 pycryptodome-3.16.0 pydantic-1.10.4 pydub-0.25.1 python-multipart-0.0.5 pyyaml-6.0 rfc3986-1.5.0 starlette-0.22.0 toolz-0.12.0 uc-micro-py-1.0.1 uvicorn-0.20.0 websockets-10.4 yarl-1.8.2\n"
     ]
    }
   ],
   "source": [
    "!pip install gradio"
   ]
  },
  {
   "cell_type": "code",
   "execution_count": 7,
   "id": "0d1faaf1",
   "metadata": {},
   "outputs": [],
   "source": [
    "import gradio as gr"
   ]
  },
  {
   "cell_type": "code",
   "execution_count": 8,
   "id": "a4718783",
   "metadata": {},
   "outputs": [],
   "source": [
    "def operation(img):\n",
    "    text = pytesseract.image_to_string(img)\n",
    "    return text"
   ]
  },
  {
   "cell_type": "code",
   "execution_count": 10,
   "id": "54cafe0b",
   "metadata": {},
   "outputs": [
    {
     "name": "stderr",
     "output_type": "stream",
     "text": [
      "c:\\python\\python37\\lib\\site-packages\\gradio\\inputs.py:258: UserWarning: Usage of gradio.inputs is deprecated, and will not be supported in the future, please import your component from gradio.components\n",
      "  \"Usage of gradio.inputs is deprecated, and will not be supported in the future, please import your component from gradio.components\",\n",
      "c:\\python\\python37\\lib\\site-packages\\gradio\\deprecation.py:40: UserWarning: `optional` parameter is deprecated, and it has no effect\n",
      "  warnings.warn(value)\n"
     ]
    },
    {
     "name": "stdout",
     "output_type": "stream",
     "text": [
      "Running on local URL:  http://127.0.0.1:7861\n",
      "\n",
      "To create a public link, set `share=True` in `launch()`.\n"
     ]
    },
    {
     "data": {
      "text/html": [
       "<div><iframe src=\"http://127.0.0.1:7861/\" width=\"100%\" height=\"500\" allow=\"autoplay; camera; microphone; clipboard-read; clipboard-write;\" frameborder=\"0\" allowfullscreen></iframe></div>"
      ],
      "text/plain": [
       "<IPython.core.display.HTML object>"
      ]
     },
     "metadata": {},
     "output_type": "display_data"
    }
   ],
   "source": [
    "desc = \"The application will extract all the text data from supplied image\"\n",
    "interface = gr.Interface(fn=operation, \n",
    "                         inputs=gr.inputs.Image(),  outputs='text',\n",
    "                         description=desc).launch()"
   ]
  },
  {
   "cell_type": "code",
   "execution_count": null,
   "id": "8d0bd1d3",
   "metadata": {},
   "outputs": [],
   "source": []
  }
 ],
 "metadata": {
  "kernelspec": {
   "display_name": "Python 3 (ipykernel)",
   "language": "python",
   "name": "python3"
  },
  "language_info": {
   "codemirror_mode": {
    "name": "ipython",
    "version": 3
   },
   "file_extension": ".py",
   "mimetype": "text/x-python",
   "name": "python",
   "nbconvert_exporter": "python",
   "pygments_lexer": "ipython3",
   "version": "3.7.9"
  }
 },
 "nbformat": 4,
 "nbformat_minor": 5
}
